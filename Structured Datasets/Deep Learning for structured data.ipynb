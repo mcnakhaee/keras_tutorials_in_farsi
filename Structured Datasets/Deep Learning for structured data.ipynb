{
 "cells": [
  {
   "cell_type": "code",
   "execution_count": 3,
   "metadata": {},
   "outputs": [],
   "source": [
    "### تعبیه سازی برای متغیرهای دسته ای\n",
    "from palmerpenguins.penguins import load_penguins\n",
    "from tensorflow.keras.layers import Subtract,Dense,Input,Concatenate\n",
    "import pandas as pd\n",
    "import tensorflow as tf\n",
    "import numpy as np"
   ]
  },
  {
   "cell_type": "code",
   "execution_count": 4,
   "metadata": {},
   "outputs": [
    {
     "data": {
      "text/html": [
       "<div>\n",
       "<style scoped>\n",
       "    .dataframe tbody tr th:only-of-type {\n",
       "        vertical-align: middle;\n",
       "    }\n",
       "\n",
       "    .dataframe tbody tr th {\n",
       "        vertical-align: top;\n",
       "    }\n",
       "\n",
       "    .dataframe thead th {\n",
       "        text-align: right;\n",
       "    }\n",
       "</style>\n",
       "<table border=\"1\" class=\"dataframe\">\n",
       "  <thead>\n",
       "    <tr style=\"text-align: right;\">\n",
       "      <th></th>\n",
       "      <th>ID</th>\n",
       "      <th>date</th>\n",
       "      <th>sourceLatitude</th>\n",
       "      <th>sourceLongitude</th>\n",
       "      <th>SourceState</th>\n",
       "      <th>destinationLatitude</th>\n",
       "      <th>destinationLongitude</th>\n",
       "      <th>destinationState</th>\n",
       "      <th>distanceKM</th>\n",
       "      <th>taxiDurationMin</th>\n",
       "      <th>vehicleType</th>\n",
       "      <th>vehicleOption</th>\n",
       "      <th>weight</th>\n",
       "      <th>price</th>\n",
       "    </tr>\n",
       "  </thead>\n",
       "  <tbody>\n",
       "    <tr>\n",
       "      <th>0</th>\n",
       "      <td>88142929797</td>\n",
       "      <td>960218</td>\n",
       "      <td>36.666045</td>\n",
       "      <td>48.489706</td>\n",
       "      <td>زنجان</td>\n",
       "      <td>29.600574</td>\n",
       "      <td>52.537114</td>\n",
       "      <td>فارس</td>\n",
       "      <td>1092.0</td>\n",
       "      <td>751.0</td>\n",
       "      <td>treili</td>\n",
       "      <td>kafi</td>\n",
       "      <td>20.00</td>\n",
       "      <td>15300000</td>\n",
       "    </tr>\n",
       "    <tr>\n",
       "      <th>1</th>\n",
       "      <td>30842979862</td>\n",
       "      <td>960511</td>\n",
       "      <td>32.323951</td>\n",
       "      <td>50.855412</td>\n",
       "      <td>چهارمحال و بختیاری</td>\n",
       "      <td>34.644923</td>\n",
       "      <td>50.876092</td>\n",
       "      <td>قم</td>\n",
       "      <td>414.0</td>\n",
       "      <td>264.0</td>\n",
       "      <td>khavar</td>\n",
       "      <td>mosaghaf_felezi</td>\n",
       "      <td>2.50</td>\n",
       "      <td>1800000</td>\n",
       "    </tr>\n",
       "    <tr>\n",
       "      <th>2</th>\n",
       "      <td>54262798716</td>\n",
       "      <td>960602</td>\n",
       "      <td>32.575448</td>\n",
       "      <td>51.581011</td>\n",
       "      <td>اصفهان</td>\n",
       "      <td>31.819508</td>\n",
       "      <td>49.865235</td>\n",
       "      <td>خوزستان</td>\n",
       "      <td>310.0</td>\n",
       "      <td>292.0</td>\n",
       "      <td>joft</td>\n",
       "      <td>kompressi</td>\n",
       "      <td>14.97</td>\n",
       "      <td>3742000</td>\n",
       "    </tr>\n",
       "    <tr>\n",
       "      <th>3</th>\n",
       "      <td>64071173752</td>\n",
       "      <td>960319</td>\n",
       "      <td>35.029685</td>\n",
       "      <td>48.085763</td>\n",
       "      <td>کردستان</td>\n",
       "      <td>35.703801</td>\n",
       "      <td>51.398824</td>\n",
       "      <td>تهران</td>\n",
       "      <td>391.0</td>\n",
       "      <td>271.0</td>\n",
       "      <td>khavar</td>\n",
       "      <td>mosaghaf_felezi</td>\n",
       "      <td>2.50</td>\n",
       "      <td>1300000</td>\n",
       "    </tr>\n",
       "    <tr>\n",
       "      <th>4</th>\n",
       "      <td>68088966447</td>\n",
       "      <td>960609</td>\n",
       "      <td>31.586965</td>\n",
       "      <td>54.449607</td>\n",
       "      <td>یزد</td>\n",
       "      <td>36.730367</td>\n",
       "      <td>53.965480</td>\n",
       "      <td>گلستان</td>\n",
       "      <td>756.0</td>\n",
       "      <td>573.0</td>\n",
       "      <td>joft</td>\n",
       "      <td>bari</td>\n",
       "      <td>15.00</td>\n",
       "      <td>8870000</td>\n",
       "    </tr>\n",
       "  </tbody>\n",
       "</table>\n",
       "</div>"
      ],
      "text/plain": [
       "            ID    date  sourceLatitude  sourceLongitude         SourceState  \\\n",
       "0  88142929797  960218       36.666045        48.489706               زنجان   \n",
       "1  30842979862  960511       32.323951        50.855412  چهارمحال و بختیاری   \n",
       "2  54262798716  960602       32.575448        51.581011              اصفهان   \n",
       "3  64071173752  960319       35.029685        48.085763             کردستان   \n",
       "4  68088966447  960609       31.586965        54.449607                 یزد   \n",
       "\n",
       "   destinationLatitude  destinationLongitude destinationState  distanceKM  \\\n",
       "0            29.600574             52.537114             فارس      1092.0   \n",
       "1            34.644923             50.876092               قم       414.0   \n",
       "2            31.819508             49.865235          خوزستان       310.0   \n",
       "3            35.703801             51.398824            تهران       391.0   \n",
       "4            36.730367             53.965480           گلستان       756.0   \n",
       "\n",
       "   taxiDurationMin vehicleType    vehicleOption  weight     price  \n",
       "0            751.0      treili             kafi   20.00  15300000  \n",
       "1            264.0      khavar  mosaghaf_felezi    2.50   1800000  \n",
       "2            292.0        joft        kompressi   14.97   3742000  \n",
       "3            271.0      khavar  mosaghaf_felezi    2.50   1300000  \n",
       "4            573.0        joft             bari   15.00   8870000  "
      ]
     },
     "execution_count": 4,
     "metadata": {},
     "output_type": "execute_result"
    }
   ],
   "source": [
    "ubaar = pd.read_csv('../data/train.csv')\n",
    "ubaar.head()"
   ]
  },
  {
   "cell_type": "code",
   "execution_count": null,
   "metadata": {},
   "outputs": [],
   "source": []
  },
  {
   "cell_type": "code",
   "execution_count": 5,
   "metadata": {},
   "outputs": [
    {
     "data": {
      "text/plain": [
       "array(['زنجان', 'چهارمحال و بختیاری', 'اصفهان', 'کردستان', 'یزد', 'کرمان',\n",
       "       'تهران', 'فارس', 'سمنان', 'مرکزی', 'کرمانشاه', 'خراسان رضوی',\n",
       "       'آذربایجان شرقی', 'لرستان', 'همدان', 'البرز', 'بوشهر', 'خوزستان',\n",
       "       'سیستان و بلوچستان', 'قزوین', 'گلستان', 'مازندران', 'هرمزگان',\n",
       "       'قم', 'آذربایجان غربی', 'اردبیل', 'گیلان', 'خراسان شمالی',\n",
       "       'کهگیلویه و بویراحمد', 'خراسان جنوبی', 'ایلام'], dtype=object)"
      ]
     },
     "execution_count": 5,
     "metadata": {},
     "output_type": "execute_result"
    }
   ],
   "source": [
    "pd.unique(ubaar.SourceState)"
   ]
  },
  {
   "cell_type": "code",
   "execution_count": 6,
   "metadata": {},
   "outputs": [
    {
     "data": {
      "text/plain": [
       "31"
      ]
     },
     "execution_count": 6,
     "metadata": {},
     "output_type": "execute_result"
    }
   ],
   "source": [
    "n_provinces = len(pd.unique(ubaar.SourceState))\n",
    "n_provinces"
   ]
  },
  {
   "cell_type": "markdown",
   "metadata": {},
   "source": [
    "### پیش پردازش داده ها"
   ]
  },
  {
   "cell_type": "markdown",
   "metadata": {},
   "source": [
    "#### نبدیل متغییرهای دسته ای"
   ]
  },
  {
   "cell_type": "code",
   "execution_count": 8,
   "metadata": {},
   "outputs": [
    {
     "name": "stdout",
     "output_type": "stream",
     "text": [
      "<class 'pandas.core.frame.DataFrame'>\n",
      "RangeIndex: 50000 entries, 0 to 49999\n",
      "Data columns (total 14 columns):\n",
      " #   Column                Non-Null Count  Dtype  \n",
      "---  ------                --------------  -----  \n",
      " 0   ID                    50000 non-null  int64  \n",
      " 1   date                  50000 non-null  int64  \n",
      " 2   sourceLatitude        50000 non-null  float64\n",
      " 3   sourceLongitude       50000 non-null  float64\n",
      " 4   SourceState           50000 non-null  object \n",
      " 5   destinationLatitude   50000 non-null  float64\n",
      " 6   destinationLongitude  50000 non-null  float64\n",
      " 7   destinationState      50000 non-null  object \n",
      " 8   distanceKM            49997 non-null  float64\n",
      " 9   taxiDurationMin       49997 non-null  float64\n",
      " 10  vehicleType           50000 non-null  object \n",
      " 11  vehicleOption         50000 non-null  object \n",
      " 12  weight                50000 non-null  float64\n",
      " 13  price                 50000 non-null  int64  \n",
      "dtypes: float64(7), int64(3), object(4)\n",
      "memory usage: 5.3+ MB\n"
     ]
    }
   ],
   "source": [
    "ubaar.info()"
   ]
  },
  {
   "cell_type": "code",
   "execution_count": 13,
   "metadata": {},
   "outputs": [
    {
     "data": {
      "text/html": [
       "<div>\n",
       "<style scoped>\n",
       "    .dataframe tbody tr th:only-of-type {\n",
       "        vertical-align: middle;\n",
       "    }\n",
       "\n",
       "    .dataframe tbody tr th {\n",
       "        vertical-align: top;\n",
       "    }\n",
       "\n",
       "    .dataframe thead th {\n",
       "        text-align: right;\n",
       "    }\n",
       "</style>\n",
       "<table border=\"1\" class=\"dataframe\">\n",
       "  <thead>\n",
       "    <tr style=\"text-align: right;\">\n",
       "      <th></th>\n",
       "      <th>date</th>\n",
       "      <th>sourceLatitude</th>\n",
       "      <th>sourceLongitude</th>\n",
       "      <th>SourceState</th>\n",
       "      <th>destinationLatitude</th>\n",
       "      <th>destinationLongitude</th>\n",
       "      <th>destinationState</th>\n",
       "      <th>distanceKM</th>\n",
       "      <th>taxiDurationMin</th>\n",
       "      <th>vehicleType</th>\n",
       "      <th>vehicleOption</th>\n",
       "      <th>weight</th>\n",
       "      <th>price</th>\n",
       "    </tr>\n",
       "  </thead>\n",
       "  <tbody>\n",
       "    <tr>\n",
       "      <th>0</th>\n",
       "      <td>960218</td>\n",
       "      <td>36.666045</td>\n",
       "      <td>48.489706</td>\n",
       "      <td>زنجان</td>\n",
       "      <td>29.600574</td>\n",
       "      <td>52.537114</td>\n",
       "      <td>فارس</td>\n",
       "      <td>1092.0</td>\n",
       "      <td>751.0</td>\n",
       "      <td>treili</td>\n",
       "      <td>kafi</td>\n",
       "      <td>20.00</td>\n",
       "      <td>15300000</td>\n",
       "    </tr>\n",
       "    <tr>\n",
       "      <th>1</th>\n",
       "      <td>960511</td>\n",
       "      <td>32.323951</td>\n",
       "      <td>50.855412</td>\n",
       "      <td>چهارمحال و بختیاری</td>\n",
       "      <td>34.644923</td>\n",
       "      <td>50.876092</td>\n",
       "      <td>قم</td>\n",
       "      <td>414.0</td>\n",
       "      <td>264.0</td>\n",
       "      <td>khavar</td>\n",
       "      <td>mosaghaf_felezi</td>\n",
       "      <td>2.50</td>\n",
       "      <td>1800000</td>\n",
       "    </tr>\n",
       "    <tr>\n",
       "      <th>2</th>\n",
       "      <td>960602</td>\n",
       "      <td>32.575448</td>\n",
       "      <td>51.581011</td>\n",
       "      <td>اصفهان</td>\n",
       "      <td>31.819508</td>\n",
       "      <td>49.865235</td>\n",
       "      <td>خوزستان</td>\n",
       "      <td>310.0</td>\n",
       "      <td>292.0</td>\n",
       "      <td>joft</td>\n",
       "      <td>kompressi</td>\n",
       "      <td>14.97</td>\n",
       "      <td>3742000</td>\n",
       "    </tr>\n",
       "    <tr>\n",
       "      <th>3</th>\n",
       "      <td>960319</td>\n",
       "      <td>35.029685</td>\n",
       "      <td>48.085763</td>\n",
       "      <td>کردستان</td>\n",
       "      <td>35.703801</td>\n",
       "      <td>51.398824</td>\n",
       "      <td>تهران</td>\n",
       "      <td>391.0</td>\n",
       "      <td>271.0</td>\n",
       "      <td>khavar</td>\n",
       "      <td>mosaghaf_felezi</td>\n",
       "      <td>2.50</td>\n",
       "      <td>1300000</td>\n",
       "    </tr>\n",
       "    <tr>\n",
       "      <th>4</th>\n",
       "      <td>960609</td>\n",
       "      <td>31.586965</td>\n",
       "      <td>54.449607</td>\n",
       "      <td>یزد</td>\n",
       "      <td>36.730367</td>\n",
       "      <td>53.965480</td>\n",
       "      <td>گلستان</td>\n",
       "      <td>756.0</td>\n",
       "      <td>573.0</td>\n",
       "      <td>joft</td>\n",
       "      <td>bari</td>\n",
       "      <td>15.00</td>\n",
       "      <td>8870000</td>\n",
       "    </tr>\n",
       "    <tr>\n",
       "      <th>...</th>\n",
       "      <td>...</td>\n",
       "      <td>...</td>\n",
       "      <td>...</td>\n",
       "      <td>...</td>\n",
       "      <td>...</td>\n",
       "      <td>...</td>\n",
       "      <td>...</td>\n",
       "      <td>...</td>\n",
       "      <td>...</td>\n",
       "      <td>...</td>\n",
       "      <td>...</td>\n",
       "      <td>...</td>\n",
       "      <td>...</td>\n",
       "    </tr>\n",
       "    <tr>\n",
       "      <th>49995</th>\n",
       "      <td>960308</td>\n",
       "      <td>32.178659</td>\n",
       "      <td>54.068647</td>\n",
       "      <td>یزد</td>\n",
       "      <td>32.675211</td>\n",
       "      <td>51.669889</td>\n",
       "      <td>اصفهان</td>\n",
       "      <td>291.0</td>\n",
       "      <td>193.0</td>\n",
       "      <td>treili</td>\n",
       "      <td>kafi</td>\n",
       "      <td>23.89</td>\n",
       "      <td>6360000</td>\n",
       "    </tr>\n",
       "    <tr>\n",
       "      <th>49996</th>\n",
       "      <td>960130</td>\n",
       "      <td>33.990468</td>\n",
       "      <td>50.688987</td>\n",
       "      <td>مرکزی</td>\n",
       "      <td>35.695076</td>\n",
       "      <td>51.397359</td>\n",
       "      <td>تهران</td>\n",
       "      <td>252.0</td>\n",
       "      <td>179.0</td>\n",
       "      <td>tak</td>\n",
       "      <td>yakhchali</td>\n",
       "      <td>6.25</td>\n",
       "      <td>3255000</td>\n",
       "    </tr>\n",
       "    <tr>\n",
       "      <th>49997</th>\n",
       "      <td>960301</td>\n",
       "      <td>32.384790</td>\n",
       "      <td>48.406081</td>\n",
       "      <td>خوزستان</td>\n",
       "      <td>33.989690</td>\n",
       "      <td>51.440449</td>\n",
       "      <td>اصفهان</td>\n",
       "      <td>554.0</td>\n",
       "      <td>440.0</td>\n",
       "      <td>khavar</td>\n",
       "      <td>mosaghaf_felezi</td>\n",
       "      <td>4.50</td>\n",
       "      <td>6500000</td>\n",
       "    </tr>\n",
       "    <tr>\n",
       "      <th>49998</th>\n",
       "      <td>960122</td>\n",
       "      <td>34.795119</td>\n",
       "      <td>48.521234</td>\n",
       "      <td>همدان</td>\n",
       "      <td>35.705585</td>\n",
       "      <td>51.397401</td>\n",
       "      <td>تهران</td>\n",
       "      <td>323.0</td>\n",
       "      <td>226.0</td>\n",
       "      <td>khavar</td>\n",
       "      <td>mosaghaf_felezi</td>\n",
       "      <td>3.00</td>\n",
       "      <td>2600000</td>\n",
       "    </tr>\n",
       "    <tr>\n",
       "      <th>49999</th>\n",
       "      <td>960428</td>\n",
       "      <td>32.178747</td>\n",
       "      <td>54.062925</td>\n",
       "      <td>یزد</td>\n",
       "      <td>36.294833</td>\n",
       "      <td>59.601507</td>\n",
       "      <td>خراسان رضوی</td>\n",
       "      <td>910.0</td>\n",
       "      <td>625.0</td>\n",
       "      <td>khavar</td>\n",
       "      <td>mosaghaf_felezi</td>\n",
       "      <td>1.00</td>\n",
       "      <td>5230000</td>\n",
       "    </tr>\n",
       "  </tbody>\n",
       "</table>\n",
       "<p>50000 rows × 13 columns</p>\n",
       "</div>"
      ],
      "text/plain": [
       "         date  sourceLatitude  sourceLongitude         SourceState  \\\n",
       "0      960218       36.666045        48.489706               زنجان   \n",
       "1      960511       32.323951        50.855412  چهارمحال و بختیاری   \n",
       "2      960602       32.575448        51.581011              اصفهان   \n",
       "3      960319       35.029685        48.085763             کردستان   \n",
       "4      960609       31.586965        54.449607                 یزد   \n",
       "...       ...             ...              ...                 ...   \n",
       "49995  960308       32.178659        54.068647                 یزد   \n",
       "49996  960130       33.990468        50.688987               مرکزی   \n",
       "49997  960301       32.384790        48.406081             خوزستان   \n",
       "49998  960122       34.795119        48.521234               همدان   \n",
       "49999  960428       32.178747        54.062925                 یزد   \n",
       "\n",
       "       destinationLatitude  destinationLongitude destinationState  distanceKM  \\\n",
       "0                29.600574             52.537114             فارس      1092.0   \n",
       "1                34.644923             50.876092               قم       414.0   \n",
       "2                31.819508             49.865235          خوزستان       310.0   \n",
       "3                35.703801             51.398824            تهران       391.0   \n",
       "4                36.730367             53.965480           گلستان       756.0   \n",
       "...                    ...                   ...              ...         ...   \n",
       "49995            32.675211             51.669889           اصفهان       291.0   \n",
       "49996            35.695076             51.397359            تهران       252.0   \n",
       "49997            33.989690             51.440449           اصفهان       554.0   \n",
       "49998            35.705585             51.397401            تهران       323.0   \n",
       "49999            36.294833             59.601507      خراسان رضوی       910.0   \n",
       "\n",
       "       taxiDurationMin vehicleType    vehicleOption  weight     price  \n",
       "0                751.0      treili             kafi   20.00  15300000  \n",
       "1                264.0      khavar  mosaghaf_felezi    2.50   1800000  \n",
       "2                292.0        joft        kompressi   14.97   3742000  \n",
       "3                271.0      khavar  mosaghaf_felezi    2.50   1300000  \n",
       "4                573.0        joft             bari   15.00   8870000  \n",
       "...                ...         ...              ...     ...       ...  \n",
       "49995            193.0      treili             kafi   23.89   6360000  \n",
       "49996            179.0         tak        yakhchali    6.25   3255000  \n",
       "49997            440.0      khavar  mosaghaf_felezi    4.50   6500000  \n",
       "49998            226.0      khavar  mosaghaf_felezi    3.00   2600000  \n",
       "49999            625.0      khavar  mosaghaf_felezi    1.00   5230000  \n",
       "\n",
       "[50000 rows x 13 columns]"
      ]
     },
     "execution_count": 13,
     "metadata": {},
     "output_type": "execute_result"
    }
   ],
   "source": [
    "ubaar.drop('ID',axis = 1)"
   ]
  },
  {
   "cell_type": "code",
   "execution_count": 14,
   "metadata": {},
   "outputs": [],
   "source": [
    "\n",
    "ubaar = pd.get_dummies(ubaar,columns=['SourceState','destinationState','vehicleType','vehicleOption'])"
   ]
  },
  {
   "cell_type": "code",
   "execution_count": null,
   "metadata": {},
   "outputs": [],
   "source": [
    "#ubaar['']\n",
    "#ubaar.drop('ID',axis = 1)"
   ]
  },
  {
   "cell_type": "code",
   "execution_count": null,
   "metadata": {},
   "outputs": [],
   "source": []
  },
  {
   "cell_type": "code",
   "execution_count": 17,
   "metadata": {},
   "outputs": [],
   "source": [
    "ubaar.dropna(inplace = True)"
   ]
  },
  {
   "cell_type": "code",
   "execution_count": 30,
   "metadata": {},
   "outputs": [],
   "source": [
    "from sklearn.model_selection import train_test_split\n",
    "X = ubaar.drop(['price'],axis = 1)\n",
    "y = np.log(ubaar['price'])\n",
    "\n",
    "X_train,X_test, y_train,y_test = train_test_split(X,y)"
   ]
  },
  {
   "cell_type": "markdown",
   "metadata": {},
   "source": [
    "#### نرمال سازی داده ها"
   ]
  },
  {
   "cell_type": "code",
   "execution_count": 31,
   "metadata": {},
   "outputs": [],
   "source": [
    "from sklearn.preprocessing import StandardScaler\n",
    "\n",
    "ss  = StandardScaler()\n",
    "X_train = ss.fit_transform(X_train)\n",
    "X_test = ss.transform(X_test)\n"
   ]
  },
  {
   "cell_type": "code",
   "execution_count": 33,
   "metadata": {},
   "outputs": [
    {
     "data": {
      "text/plain": [
       "array([[ 0.20365597,  0.19088286, -0.59146393, ..., -0.53177249,\n",
       "        -0.24941505, -0.26652738],\n",
       "       [ 0.5920366 , -1.56934396,  0.69663671, ..., -0.53177249,\n",
       "        -0.24941505, -0.26652738],\n",
       "       [-1.62036364,  0.78984893,  1.33485091, ...,  1.88050346,\n",
       "        -0.24941505, -0.26652738],\n",
       "       ...,\n",
       "       [ 0.53792744,  1.49271728, -0.74470454, ..., -0.53177249,\n",
       "        -0.24941505, -0.26652738],\n",
       "       [-1.54336418, -1.53878447, -0.59010849, ..., -0.53177249,\n",
       "        -0.24941505, -0.26652738],\n",
       "       [ 0.75277586, -1.67935814,  0.87352491, ..., -0.53177249,\n",
       "        -0.24941505, -0.26652738]])"
      ]
     },
     "execution_count": 33,
     "metadata": {},
     "output_type": "execute_result"
    }
   ],
   "source": [
    "X_train"
   ]
  },
  {
   "cell_type": "code",
   "execution_count": 24,
   "metadata": {},
   "outputs": [],
   "source": [
    "from tensorflow.keras.layers import Subtract,Dense,Input,Concatenate\n",
    "from tensorflow.keras.models import Sequential"
   ]
  },
  {
   "cell_type": "code",
   "execution_count": 38,
   "metadata": {},
   "outputs": [
    {
     "data": {
      "text/plain": [
       "(37497, 84)"
      ]
     },
     "execution_count": 38,
     "metadata": {},
     "output_type": "execute_result"
    }
   ],
   "source": [
    "X_train.shape"
   ]
  },
  {
   "cell_type": "code",
   "execution_count": 39,
   "metadata": {},
   "outputs": [],
   "source": [
    "model = Sequential()\n",
    "\n",
    "model.add(Dense(32,activation = 'relu',input_shape = [len(X.keys())] ))\n",
    "model.add(Dense(64,activation = 'relu' ))\n",
    "model.add(Dense(1 ))"
   ]
  },
  {
   "cell_type": "code",
   "execution_count": 40,
   "metadata": {},
   "outputs": [],
   "source": [
    "model.compile(loss= tf.keras.losses.MeanAbsolutePercentageError(),\n",
    "              optimizer='adam',\n",
    "              metrics=['mape'])"
   ]
  },
  {
   "cell_type": "code",
   "execution_count": 41,
   "metadata": {},
   "outputs": [
    {
     "name": "stdout",
     "output_type": "stream",
     "text": [
      "Epoch 1/5\n",
      "1875/1875 [==============================] - 3s 1ms/step - loss: 7.3216 - mape: 7.3216 - val_loss: 3.2642 - val_mape: 3.2642\n",
      "Epoch 2/5\n",
      "1875/1875 [==============================] - 2s 1ms/step - loss: 2.7364 - mape: 2.7364 - val_loss: 2.5947 - val_mape: 2.5947\n",
      "Epoch 3/5\n",
      "1875/1875 [==============================] - 2s 1ms/step - loss: 2.2782 - mape: 2.2782 - val_loss: 2.2232 - val_mape: 2.2232\n",
      "Epoch 4/5\n",
      "1875/1875 [==============================] - 2s 1ms/step - loss: 2.1062 - mape: 2.1062 - val_loss: 2.1145 - val_mape: 2.1145\n",
      "Epoch 5/5\n",
      "1875/1875 [==============================] - 2s 1ms/step - loss: 1.9843 - mape: 1.9843 - val_loss: 1.9127 - val_mape: 1.9127\n"
     ]
    },
    {
     "data": {
      "text/plain": [
       "<tensorflow.python.keras.callbacks.History at 0x2e418c60208>"
      ]
     },
     "execution_count": 41,
     "metadata": {},
     "output_type": "execute_result"
    }
   ],
   "source": [
    "model.fit(X_train,y_train, validation_split = 0.2,batch_size=16,epochs=5,verbose=1)"
   ]
  },
  {
   "cell_type": "code",
   "execution_count": null,
   "metadata": {},
   "outputs": [],
   "source": [
    "input_tensor = keras.layers.Input(shape = (1,))"
   ]
  },
  {
   "cell_type": "code",
   "execution_count": null,
   "metadata": {},
   "outputs": [],
   "source": [
    "source_input = keras.layers.Input(shape = (1,),name = 'source_state_layer')\n",
    "source_input = keras.layers.Input(shape = (1,),name = 'destination_state_layer')"
   ]
  },
  {
   "cell_type": "markdown",
   "metadata": {},
   "source": [
    "Since your model has two inputs now, you need to pass the input data as a list."
   ]
  },
  {
   "cell_type": "code",
   "execution_count": null,
   "metadata": {},
   "outputs": [],
   "source": [
    "price_diff = Subtract()([source_tensor,destination_tensor])"
   ]
  },
  {
   "cell_type": "markdown",
   "metadata": {},
   "source": [
    "### Model stacking"
   ]
  },
  {
   "cell_type": "code",
   "execution_count": 7,
   "metadata": {},
   "outputs": [],
   "source": [
    "target = ubaar.price\n",
    "features = ubaar[['distanceKM','taxiDurationMin','weight']]\n",
    "ubaar_tfds = tf.data.Dataset.from_tensor_slices((features.values,target.values))"
   ]
  },
  {
   "cell_type": "code",
   "execution_count": 8,
   "metadata": {},
   "outputs": [
    {
     "name": "stdout",
     "output_type": "stream",
     "text": [
      "tf.Tensor([1092.  751.   20.], shape=(3,), dtype=float64) tf.Tensor(15300000, shape=(), dtype=int64)\n",
      "tf.Tensor([414.  264.    2.5], shape=(3,), dtype=float64) tf.Tensor(1800000, shape=(), dtype=int64)\n",
      "tf.Tensor([310.   292.    14.97], shape=(3,), dtype=float64) tf.Tensor(3742000, shape=(), dtype=int64)\n"
     ]
    }
   ],
   "source": [
    "for sample,target in ubaar_tfds.take(3):\n",
    "    print(sample,target)"
   ]
  },
  {
   "cell_type": "code",
   "execution_count": 11,
   "metadata": {},
   "outputs": [
    {
     "ename": "ValueError",
     "evalue": "Unsupported input type. Input must be a CategoricalColumn. Given: NumericColumn(key='distanceKM', shape=(1,), default_value=None, dtype=tf.float32, normalizer_fn=None)",
     "output_type": "error",
     "traceback": [
      "\u001b[1;31m---------------------------------------------------------------------------\u001b[0m",
      "\u001b[1;31mValueError\u001b[0m                                Traceback (most recent call last)",
      "\u001b[1;32m<ipython-input-11-157c6c0e3c4a>\u001b[0m in \u001b[0;36m<module>\u001b[1;34m\u001b[0m\n\u001b[0;32m      3\u001b[0m \u001b[1;32mfor\u001b[0m  \u001b[0mfeature\u001b[0m \u001b[1;32min\u001b[0m \u001b[0mnumerical_features\u001b[0m\u001b[1;33m:\u001b[0m\u001b[1;33m\u001b[0m\u001b[1;33m\u001b[0m\u001b[0m\n\u001b[0;32m      4\u001b[0m     \u001b[0mcol\u001b[0m \u001b[1;33m=\u001b[0m \u001b[0mtf\u001b[0m\u001b[1;33m.\u001b[0m\u001b[0mfeature_column\u001b[0m\u001b[1;33m.\u001b[0m\u001b[0mnumeric_column\u001b[0m\u001b[1;33m(\u001b[0m\u001b[0mfeature\u001b[0m\u001b[1;33m)\u001b[0m\u001b[1;33m\u001b[0m\u001b[1;33m\u001b[0m\u001b[0m\n\u001b[1;32m----> 5\u001b[1;33m     \u001b[0mfeatures\u001b[0m\u001b[1;33m.\u001b[0m\u001b[0mappend\u001b[0m\u001b[1;33m(\u001b[0m\u001b[0mtf\u001b[0m\u001b[1;33m.\u001b[0m\u001b[0mfeature_column\u001b[0m\u001b[1;33m.\u001b[0m\u001b[0mindicator_column\u001b[0m\u001b[1;33m(\u001b[0m\u001b[0mcol\u001b[0m\u001b[1;33m)\u001b[0m\u001b[1;33m)\u001b[0m\u001b[1;33m\u001b[0m\u001b[1;33m\u001b[0m\u001b[0m\n\u001b[0m",
      "\u001b[1;32m~\\AppData\\Local\\Continuum\\anaconda3\\lib\\site-packages\\tensorflow\\python\\feature_column\\feature_column_v2.py\u001b[0m in \u001b[0;36mindicator_column\u001b[1;34m(categorical_column)\u001b[0m\n\u001b[0;32m   1974\u001b[0m     raise ValueError(\n\u001b[0;32m   1975\u001b[0m         \u001b[1;34m'Unsupported input type. Input must be a CategoricalColumn. '\u001b[0m\u001b[1;33m\u001b[0m\u001b[1;33m\u001b[0m\u001b[0m\n\u001b[1;32m-> 1976\u001b[1;33m         'Given: {}'.format(categorical_column))\n\u001b[0m\u001b[0;32m   1977\u001b[0m   \u001b[1;32mreturn\u001b[0m \u001b[0mIndicatorColumn\u001b[0m\u001b[1;33m(\u001b[0m\u001b[0mcategorical_column\u001b[0m\u001b[1;33m)\u001b[0m\u001b[1;33m\u001b[0m\u001b[1;33m\u001b[0m\u001b[0m\n\u001b[0;32m   1978\u001b[0m \u001b[1;33m\u001b[0m\u001b[0m\n",
      "\u001b[1;31mValueError\u001b[0m: Unsupported input type. Input must be a CategoricalColumn. Given: NumericColumn(key='distanceKM', shape=(1,), default_value=None, dtype=tf.float32, normalizer_fn=None)"
     ]
    }
   ],
   "source": [
    "numerical_features = ['distanceKM','taxiDurationMin','weight']\n",
    "features = []\n",
    "for  feature in numerical_features:\n",
    "    col = tf.feature_column.numeric_column(feature)\n",
    "    features.append(tf.feature_column.indicator_column(col))"
   ]
  },
  {
   "cell_type": "code",
   "execution_count": null,
   "metadata": {},
   "outputs": [],
   "source": []
  }
 ],
 "metadata": {
  "kernelspec": {
   "display_name": "Python 3",
   "language": "python",
   "name": "python3"
  },
  "language_info": {
   "codemirror_mode": {
    "name": "ipython",
    "version": 3
   },
   "file_extension": ".py",
   "mimetype": "text/x-python",
   "name": "python",
   "nbconvert_exporter": "python",
   "pygments_lexer": "ipython3",
   "version": "3.7.4"
  }
 },
 "nbformat": 4,
 "nbformat_minor": 4
}

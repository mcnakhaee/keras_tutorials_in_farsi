{
 "cells": [
  {
   "cell_type": "code",
   "execution_count": 2,
   "metadata": {},
   "outputs": [],
   "source": [
    "### تعبیه سازی برای متغیرهای دسته ای\n",
    "from palmerpenguins.penguins import load_penguins\n",
    "import pandas as pd"
   ]
  },
  {
   "cell_type": "code",
   "execution_count": 3,
   "metadata": {},
   "outputs": [
    {
     "data": {
      "text/html": [
       "<div>\n",
       "<style scoped>\n",
       "    .dataframe tbody tr th:only-of-type {\n",
       "        vertical-align: middle;\n",
       "    }\n",
       "\n",
       "    .dataframe tbody tr th {\n",
       "        vertical-align: top;\n",
       "    }\n",
       "\n",
       "    .dataframe thead th {\n",
       "        text-align: right;\n",
       "    }\n",
       "</style>\n",
       "<table border=\"1\" class=\"dataframe\">\n",
       "  <thead>\n",
       "    <tr style=\"text-align: right;\">\n",
       "      <th></th>\n",
       "      <th>ID</th>\n",
       "      <th>date</th>\n",
       "      <th>sourceLatitude</th>\n",
       "      <th>sourceLongitude</th>\n",
       "      <th>SourceState</th>\n",
       "      <th>destinationLatitude</th>\n",
       "      <th>destinationLongitude</th>\n",
       "      <th>destinationState</th>\n",
       "      <th>distanceKM</th>\n",
       "      <th>taxiDurationMin</th>\n",
       "      <th>vehicleType</th>\n",
       "      <th>vehicleOption</th>\n",
       "      <th>weight</th>\n",
       "      <th>price</th>\n",
       "    </tr>\n",
       "  </thead>\n",
       "  <tbody>\n",
       "    <tr>\n",
       "      <th>0</th>\n",
       "      <td>88142929797</td>\n",
       "      <td>960218</td>\n",
       "      <td>36.666045</td>\n",
       "      <td>48.489706</td>\n",
       "      <td>زنجان</td>\n",
       "      <td>29.600574</td>\n",
       "      <td>52.537114</td>\n",
       "      <td>فارس</td>\n",
       "      <td>1092.0</td>\n",
       "      <td>751.0</td>\n",
       "      <td>treili</td>\n",
       "      <td>kafi</td>\n",
       "      <td>20.00</td>\n",
       "      <td>15300000</td>\n",
       "    </tr>\n",
       "    <tr>\n",
       "      <th>1</th>\n",
       "      <td>30842979862</td>\n",
       "      <td>960511</td>\n",
       "      <td>32.323951</td>\n",
       "      <td>50.855412</td>\n",
       "      <td>چهارمحال و بختیاری</td>\n",
       "      <td>34.644923</td>\n",
       "      <td>50.876092</td>\n",
       "      <td>قم</td>\n",
       "      <td>414.0</td>\n",
       "      <td>264.0</td>\n",
       "      <td>khavar</td>\n",
       "      <td>mosaghaf_felezi</td>\n",
       "      <td>2.50</td>\n",
       "      <td>1800000</td>\n",
       "    </tr>\n",
       "    <tr>\n",
       "      <th>2</th>\n",
       "      <td>54262798716</td>\n",
       "      <td>960602</td>\n",
       "      <td>32.575448</td>\n",
       "      <td>51.581011</td>\n",
       "      <td>اصفهان</td>\n",
       "      <td>31.819508</td>\n",
       "      <td>49.865235</td>\n",
       "      <td>خوزستان</td>\n",
       "      <td>310.0</td>\n",
       "      <td>292.0</td>\n",
       "      <td>joft</td>\n",
       "      <td>kompressi</td>\n",
       "      <td>14.97</td>\n",
       "      <td>3742000</td>\n",
       "    </tr>\n",
       "    <tr>\n",
       "      <th>3</th>\n",
       "      <td>64071173752</td>\n",
       "      <td>960319</td>\n",
       "      <td>35.029685</td>\n",
       "      <td>48.085763</td>\n",
       "      <td>کردستان</td>\n",
       "      <td>35.703801</td>\n",
       "      <td>51.398824</td>\n",
       "      <td>تهران</td>\n",
       "      <td>391.0</td>\n",
       "      <td>271.0</td>\n",
       "      <td>khavar</td>\n",
       "      <td>mosaghaf_felezi</td>\n",
       "      <td>2.50</td>\n",
       "      <td>1300000</td>\n",
       "    </tr>\n",
       "    <tr>\n",
       "      <th>4</th>\n",
       "      <td>68088966447</td>\n",
       "      <td>960609</td>\n",
       "      <td>31.586965</td>\n",
       "      <td>54.449607</td>\n",
       "      <td>یزد</td>\n",
       "      <td>36.730367</td>\n",
       "      <td>53.965480</td>\n",
       "      <td>گلستان</td>\n",
       "      <td>756.0</td>\n",
       "      <td>573.0</td>\n",
       "      <td>joft</td>\n",
       "      <td>bari</td>\n",
       "      <td>15.00</td>\n",
       "      <td>8870000</td>\n",
       "    </tr>\n",
       "  </tbody>\n",
       "</table>\n",
       "</div>"
      ],
      "text/plain": [
       "            ID    date  sourceLatitude  sourceLongitude         SourceState  \\\n",
       "0  88142929797  960218       36.666045        48.489706               زنجان   \n",
       "1  30842979862  960511       32.323951        50.855412  چهارمحال و بختیاری   \n",
       "2  54262798716  960602       32.575448        51.581011              اصفهان   \n",
       "3  64071173752  960319       35.029685        48.085763             کردستان   \n",
       "4  68088966447  960609       31.586965        54.449607                 یزد   \n",
       "\n",
       "   destinationLatitude  destinationLongitude destinationState  distanceKM  \\\n",
       "0            29.600574             52.537114             فارس      1092.0   \n",
       "1            34.644923             50.876092               قم       414.0   \n",
       "2            31.819508             49.865235          خوزستان       310.0   \n",
       "3            35.703801             51.398824            تهران       391.0   \n",
       "4            36.730367             53.965480           گلستان       756.0   \n",
       "\n",
       "   taxiDurationMin vehicleType    vehicleOption  weight     price  \n",
       "0            751.0      treili             kafi   20.00  15300000  \n",
       "1            264.0      khavar  mosaghaf_felezi    2.50   1800000  \n",
       "2            292.0        joft        kompressi   14.97   3742000  \n",
       "3            271.0      khavar  mosaghaf_felezi    2.50   1300000  \n",
       "4            573.0        joft             bari   15.00   8870000  "
      ]
     },
     "execution_count": 3,
     "metadata": {},
     "output_type": "execute_result"
    }
   ],
   "source": [
    "ubaar = pd.read_csv('data/train.csv')\n",
    "ubaar.head()"
   ]
  },
  {
   "cell_type": "code",
   "execution_count": 5,
   "metadata": {},
   "outputs": [
    {
     "data": {
      "text/plain": [
       "array(['زنجان', 'چهارمحال و بختیاری', 'اصفهان', 'کردستان', 'یزد', 'کرمان',\n",
       "       'تهران', 'فارس', 'سمنان', 'مرکزی', 'کرمانشاه', 'خراسان رضوی',\n",
       "       'آذربایجان شرقی', 'لرستان', 'همدان', 'البرز', 'بوشهر', 'خوزستان',\n",
       "       'سیستان و بلوچستان', 'قزوین', 'گلستان', 'مازندران', 'هرمزگان',\n",
       "       'قم', 'آذربایجان غربی', 'اردبیل', 'گیلان', 'خراسان شمالی',\n",
       "       'کهگیلویه و بویراحمد', 'خراسان جنوبی', 'ایلام'], dtype=object)"
      ]
     },
     "execution_count": 5,
     "metadata": {},
     "output_type": "execute_result"
    }
   ],
   "source": [
    "pd.unique(ubaar.SourceState)"
   ]
  },
  {
   "cell_type": "code",
   "execution_count": 6,
   "metadata": {},
   "outputs": [
    {
     "data": {
      "text/plain": [
       "31"
      ]
     },
     "execution_count": 6,
     "metadata": {},
     "output_type": "execute_result"
    }
   ],
   "source": [
    "n_provinces = len(pd.unique(ubaar.SourceState))\n",
    "n_provinces"
   ]
  },
  {
   "cell_type": "code",
   "execution_count": null,
   "metadata": {},
   "outputs": [],
   "source": [
    "#### نبدیل متغییرهای دسته ای"
   ]
  },
  {
   "cell_type": "code",
   "execution_count": null,
   "metadata": {},
   "outputs": [],
   "source": []
  },
  {
   "cell_type": "code",
   "execution_count": 3,
   "metadata": {},
   "outputs": [],
   "source": [
    "#### نرمال سازی داده ها"
   ]
  },
  {
   "cell_type": "code",
   "execution_count": 9,
   "metadata": {},
   "outputs": [],
   "source": [
    "from tensorflow.keras.layers import Subtract,Dense,Input,Concatenate\n"
   ]
  },
  {
   "cell_type": "code",
   "execution_count": null,
   "metadata": {},
   "outputs": [],
   "source": [
    "input_tensor = keras.layers.Input(shape = (1,))"
   ]
  },
  {
   "cell_type": "code",
   "execution_count": null,
   "metadata": {},
   "outputs": [],
   "source": [
    "source_input = keras.layers.Input(shape = (1,),name = 'source_state_layer')\n",
    "source_input = keras.layers.Input(shape = (1,),name = 'destination_state_layer')"
   ]
  },
  {
   "cell_type": "markdown",
   "metadata": {},
   "source": [
    "Since your model has two inputs now, you need to pass the input data as a list."
   ]
  },
  {
   "cell_type": "code",
   "execution_count": null,
   "metadata": {},
   "outputs": [],
   "source": [
    "price_diff = Subtract()([source_tensor,destination_tensor])"
   ]
  },
  {
   "cell_type": "markdown",
   "metadata": {},
   "source": [
    "### Model stacking"
   ]
  }
 ],
 "metadata": {
  "kernelspec": {
   "display_name": "Python 3",
   "language": "python",
   "name": "python3"
  },
  "language_info": {
   "codemirror_mode": {
    "name": "ipython",
    "version": 3
   },
   "file_extension": ".py",
   "mimetype": "text/x-python",
   "name": "python",
   "nbconvert_exporter": "python",
   "pygments_lexer": "ipython3",
   "version": "3.7.4"
  }
 },
 "nbformat": 4,
 "nbformat_minor": 4
}

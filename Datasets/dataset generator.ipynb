{
 "cells": [
  {
   "cell_type": "code",
   "execution_count": null,
   "metadata": {},
   "outputs": [],
   "source": [
    "import tensorflow as tf\n"
   ]
  },
  {
   "cell_type": "markdown",
   "metadata": {},
   "source": [
    "پیش از این دیدیم که از data generator ها برای بارگزاری تصاویر برای آموزش یک مدل شبکه کانولوشنال استفاده کنیم.\n",
    "\n",
    "وقتی از data generator ها استفاده می کنیم که می خواهیم داده ها را به صورت بچ به مدل یادگیری ماشین بدهیم یا وقتی که حجم داده ها بالا باشند و نتوانیم همه آن ها را در حافظه بارگزاری کنیم.\n"
   ]
  },
  {
   "cell_type": "code",
   "execution_count": null,
   "metadata": {},
   "outputs": [],
   "source": []
  }
 ],
 "metadata": {
  "kernelspec": {
   "display_name": "Python 3",
   "language": "python",
   "name": "python3"
  },
  "language_info": {
   "codemirror_mode": {
    "name": "ipython",
    "version": 3
   },
   "file_extension": ".py",
   "mimetype": "text/x-python",
   "name": "python",
   "nbconvert_exporter": "python",
   "pygments_lexer": "ipython3",
   "version": "3.7.4"
  }
 },
 "nbformat": 4,
 "nbformat_minor": 4
}

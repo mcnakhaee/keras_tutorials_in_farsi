{
 "cells": [
  {
   "cell_type": "code",
   "execution_count": 23,
   "metadata": {},
   "outputs": [],
   "source": [
    "import tensorflow as tf\n",
    "import pandas as pd\n",
    "import numpy as np\n",
    "import itertools as it\n",
    "import matplotlib.pyplot as plt\n",
    "from tensorflow.keras.layers import Embedding, Dense, Flatten\n",
    "from tensorflow.keras.models import Sequential\n",
    "from tensorflow.keras.optimizers import Adam\n",
    "from sklearn.preprocessing import OneHotEncoder\n",
    "%matplotlib inline"
   ]
  },
  {
   "cell_type": "code",
   "execution_count": 2,
   "metadata": {},
   "outputs": [],
   "source": [
    "#!pip install --upgrade numpy"
   ]
  },
  {
   "cell_type": "code",
   "execution_count": 2,
   "metadata": {},
   "outputs": [
    {
     "data": {
      "text/plain": [
       "'2.2.0'"
      ]
     },
     "execution_count": 2,
     "metadata": {},
     "output_type": "execute_result"
    }
   ],
   "source": [
    "tf.__version__"
   ]
  },
  {
   "cell_type": "code",
   "execution_count": 3,
   "metadata": {},
   "outputs": [
    {
     "data": {
      "text/html": [
       "<div>\n",
       "<style scoped>\n",
       "    .dataframe tbody tr th:only-of-type {\n",
       "        vertical-align: middle;\n",
       "    }\n",
       "\n",
       "    .dataframe tbody tr th {\n",
       "        vertical-align: top;\n",
       "    }\n",
       "\n",
       "    .dataframe thead th {\n",
       "        text-align: right;\n",
       "    }\n",
       "</style>\n",
       "<table border=\"1\" class=\"dataframe\">\n",
       "  <thead>\n",
       "    <tr style=\"text-align: right;\">\n",
       "      <th></th>\n",
       "      <th>poet</th>\n",
       "      <th>century</th>\n",
       "      <th>book_title</th>\n",
       "      <th>poem_title</th>\n",
       "      <th>poem</th>\n",
       "    </tr>\n",
       "  </thead>\n",
       "  <tbody>\n",
       "    <tr>\n",
       "      <th>0</th>\n",
       "      <td>رودکی</td>\n",
       "      <td>3</td>\n",
       "      <td>قصاید و قطعات</td>\n",
       "      <td>شمارهٔ ۱</td>\n",
       "      <td>گر من این دوستی تو ببرم تا لب گور    بزنم نعره...</td>\n",
       "    </tr>\n",
       "    <tr>\n",
       "      <th>1</th>\n",
       "      <td>رودکی</td>\n",
       "      <td>3</td>\n",
       "      <td>قصاید و قطعات</td>\n",
       "      <td>شمارهٔ ۲</td>\n",
       "      <td>به حق نالم ز هجر دوست زارا    سحرگاهان چو بر گ...</td>\n",
       "    </tr>\n",
       "    <tr>\n",
       "      <th>2</th>\n",
       "      <td>رودکی</td>\n",
       "      <td>3</td>\n",
       "      <td>قصاید و قطعات</td>\n",
       "      <td>شمارهٔ ۳</td>\n",
       "      <td>به نام نیک تو، خواجه، فریفته نشوم    که نام نی...</td>\n",
       "    </tr>\n",
       "    <tr>\n",
       "      <th>3</th>\n",
       "      <td>رودکی</td>\n",
       "      <td>3</td>\n",
       "      <td>قصاید و قطعات</td>\n",
       "      <td>شمارهٔ ۴</td>\n",
       "      <td>دلا، تا کی همی جویی منی را؟    چه داری دوست هر...</td>\n",
       "    </tr>\n",
       "    <tr>\n",
       "      <th>4</th>\n",
       "      <td>رودکی</td>\n",
       "      <td>3</td>\n",
       "      <td>قصاید و قطعات</td>\n",
       "      <td>شمارهٔ ۵</td>\n",
       "      <td>گرفت خواهم زلفین عنبرین ترا    به بوسه نقش‌کنم...</td>\n",
       "    </tr>\n",
       "  </tbody>\n",
       "</table>\n",
       "</div>"
      ],
      "text/plain": [
       "    poet  century     book_title poem_title  \\\n",
       "0  رودکی        3  قصاید و قطعات   شمارهٔ ۱   \n",
       "1  رودکی        3  قصاید و قطعات   شمارهٔ ۲   \n",
       "2  رودکی        3  قصاید و قطعات   شمارهٔ ۳   \n",
       "3  رودکی        3  قصاید و قطعات   شمارهٔ ۴   \n",
       "4  رودکی        3  قصاید و قطعات   شمارهٔ ۵   \n",
       "\n",
       "                                                poem  \n",
       "0  گر من این دوستی تو ببرم تا لب گور    بزنم نعره...  \n",
       "1  به حق نالم ز هجر دوست زارا    سحرگاهان چو بر گ...  \n",
       "2  به نام نیک تو، خواجه، فریفته نشوم    که نام نی...  \n",
       "3  دلا، تا کی همی جویی منی را؟    چه داری دوست هر...  \n",
       "4  گرفت خواهم زلفین عنبرین ترا    به بوسه نقش‌کنم...  "
      ]
     },
     "execution_count": 3,
     "metadata": {},
     "output_type": "execute_result"
    }
   ],
   "source": [
    "poems = pd.read_csv('../data/poems/poems_with_more_info.tsv',sep = '\\t')\n",
    "poems.head()"
   ]
  },
  {
   "cell_type": "code",
   "execution_count": 9,
   "metadata": {},
   "outputs": [],
   "source": [
    "def sliding_window(txt):\n",
    "   for i in range(len(txt) - 2):\n",
    "    yield txt[i], txt[i + 1], txt[i + 2]\n",
    "\n",
    "window = list(it.chain(*[sliding_window(_) for _ in poems.poem[:1000]]))"
   ]
  },
  {
   "cell_type": "code",
   "execution_count": 12,
   "metadata": {},
   "outputs": [],
   "source": [
    "mapping = {c: i for i, c in enumerate(pd.DataFrame(window)[0].unique())}\n",
    "integers_in = np.array([[mapping[w[0]], mapping[w[1]]] for w in window])\n",
    "integers_out = np.array([mapping[w[2]] for w in window]).reshape(-1, 1)"
   ]
  },
  {
   "cell_type": "code",
   "execution_count": 13,
   "metadata": {},
   "outputs": [
    {
     "data": {
      "text/plain": [
       "((2095133, 2), (2095133, 1))"
      ]
     },
     "execution_count": 13,
     "metadata": {},
     "output_type": "execute_result"
    }
   ],
   "source": [
    "integers_in.shape, integers_out.shape"
   ]
  },
  {
   "cell_type": "code",
   "execution_count": 14,
   "metadata": {},
   "outputs": [
    {
     "name": "stdout",
     "output_type": "stream",
     "text": [
      "گ\n",
      "ر\n",
      " \n",
      "م\n",
      "ن\n",
      "ا\n",
      "ی\n",
      "د\n",
      "و\n",
      "س\n",
      "ت\n",
      "ب\n",
      "ل\n",
      "ز\n",
      "ع\n",
      "ه\n",
      "ک\n",
      "ث\n",
      "خ\n",
      "ج\n",
      "ف\n",
      "،\n",
      "ش\n",
      "ح\n",
      "ق\n",
      "چ\n",
      "ض\n",
      "‌\n",
      "پ\n",
      "آ\n",
      "غ\n",
      "؟\n",
      "ٔ\n",
      ":\n",
      "ژ\n",
      "!\n",
      "ذ\n",
      "ص\n",
      "ط\n",
      "ئ\n",
      "ّ\n",
      "ظ\n",
      ".\n",
      "ِ\n",
      "ؤ\n",
      "-\n",
      "«\n",
      "»\n",
      "ة\n",
      "ء\n",
      "(\n",
      ")\n",
      "أ\n"
     ]
    }
   ],
   "source": [
    "for i in mapping.keys():\n",
    "    print(i)"
   ]
  },
  {
   "cell_type": "code",
   "execution_count": 15,
   "metadata": {},
   "outputs": [
    {
     "data": {
      "text/plain": [
       "(2095133, 2, 2)"
      ]
     },
     "execution_count": 15,
     "metadata": {},
     "output_type": "execute_result"
    }
   ],
   "source": [
    "num_letters = len(mapping)\n",
    "\n",
    "model = Sequential()\n",
    "embedding = Embedding(num_letters,2,input_length = 2)\n",
    "model.add(embedding)\n",
    "output = model.predict(integers_in)\n",
    "output.shape"
   ]
  },
  {
   "cell_type": "code",
   "execution_count": 18,
   "metadata": {},
   "outputs": [
    {
     "data": {
      "image/png": "[encoded data removed]",
      "text/plain": [
       "<Figure size 432x288 with 1 Axes>"
      ]
     },
     "metadata": {
      "needs_background": "light"
     },
     "output_type": "display_data"
    }
   ],
   "source": [
    "idx_to_calc = list(mapping.values())\n",
    "idx_to_calc = np.array([idx_to_calc, idx_to_calc]).T\n",
    "translator = {v:k for k,v in mapping.items()}\n",
    "preds = model.predict(idx_to_calc)\n",
    "\n",
    "plt.scatter(preds[:, 0, 0], preds[:, 0, 1], alpha=0)\n",
    "for i, idx in enumerate(idx_to_calc):\n",
    "  plt.text(preds[i, 0, 0], preds[i, 0, 1], translator[idx[0]])\n"
   ]
  },
  {
   "cell_type": "code",
   "execution_count": 20,
   "metadata": {},
   "outputs": [],
   "source": [
    "model_emb = Sequential()\n",
    "model_emb.add(embedding)\n",
    "model_emb.add(Flatten())\n",
    "model_emb.add(Dense(num_letters,activation = 'softmax'))"
   ]
  },
  {
   "cell_type": "code",
   "execution_count": 21,
   "metadata": {},
   "outputs": [],
   "source": [
    "model_emb.compile(optimizer = Adam(learning_rate=0.001, beta_1=0.9, beta_2=0.999, amsgrad=False),\n",
    "                  loss = 'categorical_crossentropy',\n",
    "                  metrics=['accuracy']\n",
    ")"
   ]
  },
  {
   "cell_type": "code",
   "execution_count": 24,
   "metadata": {},
   "outputs": [],
   "source": [
    "to_predict = OneHotEncoder(sparse=False).fit_transform(integers_out)\n",
    "\n"
   ]
  },
  {
   "cell_type": "code",
   "execution_count": 25,
   "metadata": {},
   "outputs": [
    {
     "name": "stdout",
     "output_type": "stream",
     "text": [
      "Epoch 1/30\n",
      "65473/65473 [==============================] - 108s 2ms/step - loss: 2.4530 - accuracy: 0.3332\n",
      "Epoch 2/30\n",
      "65473/65473 [==============================] - 78s 1ms/step - loss: 2.4244 - accuracy: 0.3357\n",
      "Epoch 3/30\n",
      "65473/65473 [==============================] - 69s 1ms/step - loss: 2.4228 - accuracy: 0.3360\n",
      "Epoch 4/30\n",
      "65473/65473 [==============================] - 67s 1ms/step - loss: 2.4222 - accuracy: 0.3361\n",
      "Epoch 5/30\n",
      "65473/65473 [==============================] - 66s 1ms/step - loss: 2.4220 - accuracy: 0.3362\n",
      "Epoch 6/30\n",
      "65473/65473 [==============================] - 60s 911us/step - loss: 2.4217 - accuracy: 0.3362\n",
      "Epoch 7/30\n",
      "65473/65473 [==============================] - 64s 980us/step - loss: 2.4216 - accuracy: 0.3363\n",
      "Epoch 8/30\n",
      "65473/65473 [==============================] - 61s 937us/step - loss: 2.4215 - accuracy: 0.3362\n",
      "Epoch 9/30\n",
      "65473/65473 [==============================] - 65s 993us/step - loss: 2.4214 - accuracy: 0.3362\n",
      "Epoch 10/30\n",
      "65473/65473 [==============================] - 61s 933us/step - loss: 2.4213 - accuracy: 0.3362\n",
      "Epoch 11/30\n",
      "65473/65473 [==============================] - 61s 931us/step - loss: 2.4212 - accuracy: 0.3362\n",
      "Epoch 12/30\n",
      "65473/65473 [==============================] - 54s 827us/step - loss: 2.4212 - accuracy: 0.3362\n",
      "Epoch 13/30\n",
      "65473/65473 [==============================] - 54s 818us/step - loss: 2.4211 - accuracy: 0.3363\n",
      "Epoch 14/30\n",
      "65473/65473 [==============================] - 61s 928us/step - loss: 2.4211 - accuracy: 0.3363\n",
      "Epoch 15/30\n",
      "65473/65473 [==============================] - 61s 936us/step - loss: 2.4211 - accuracy: 0.3362\n",
      "Epoch 16/30\n",
      "65473/65473 [==============================] - 62s 951us/step - loss: 2.4210 - accuracy: 0.3363\n",
      "Epoch 17/30\n",
      "65473/65473 [==============================] - 69s 1ms/step - loss: 2.4210 - accuracy: 0.3363\n",
      "Epoch 18/30\n",
      "65473/65473 [==============================] - 57s 863us/step - loss: 2.4210 - accuracy: 0.3362\n",
      "Epoch 19/30\n",
      "65473/65473 [==============================] - 62s 952us/step - loss: 2.4209 - accuracy: 0.3360\n",
      "Epoch 20/30\n",
      "65473/65473 [==============================] - 55s 839us/step - loss: 2.4209 - accuracy: 0.3360s - loss: 2.4209 - accu\n",
      "Epoch 21/30\n",
      "65473/65473 [==============================] - 74s 1ms/step - loss: 2.4209 - accuracy: 0.3362\n",
      "Epoch 22/30\n",
      "65473/65473 [==============================] - 74s 1ms/step - loss: 2.4209 - accuracy: 0.3361\n",
      "Epoch 23/30\n",
      "65473/65473 [==============================] - 70s 1ms/step - loss: 2.4209 - accuracy: 0.3361\n",
      "Epoch 24/30\n",
      "65473/65473 [==============================] - 71s 1ms/step - loss: 2.4209 - accuracy: 0.3360\n",
      "Epoch 25/30\n",
      "65473/65473 [==============================] - 67s 1ms/step - loss: 2.4209 - accuracy: 0.3363\n",
      "Epoch 26/30\n",
      "65473/65473 [==============================] - 71s 1ms/step - loss: 2.4209 - accuracy: 0.3361\n",
      "Epoch 27/30\n",
      "65473/65473 [==============================] - 206s 3ms/step - loss: 2.4209 - accuracy: 0.3361\n",
      "Epoch 28/30\n",
      "65473/65473 [==============================] - 190s 3ms/step - loss: 2.4209 - accuracy: 0.3362\n",
      "Epoch 29/30\n",
      "65473/65473 [==============================] - 237s 4ms/step - loss: 2.4208 - accuracy: 0.3359\n",
      "Epoch 30/30\n",
      "65473/65473 [==============================] - 222s 3ms/step - loss: 2.4208 - accuracy: 0.3361\n"
     ]
    },
    {
     "data": {
      "text/plain": [
       "<tensorflow.python.keras.callbacks.History at 0x25a6972c248>"
      ]
     },
     "execution_count": 25,
     "metadata": {},
     "output_type": "execute_result"
    }
   ],
   "source": [
    "model_emb.fit(x = integers_in,\n",
    "             y = to_predict,\n",
    "              epochs=30)"
   ]
  },
  {
   "cell_type": "code",
   "execution_count": 32,
   "metadata": {},
   "outputs": [
    {
     "data": {
      "image/png": "[encoded data removed]",
      "text/plain": [
       "<Figure size 720x720 with 1 Axes>"
      ]
     },
     "metadata": {
      "needs_background": "light"
     },
     "output_type": "display_data"
    }
   ],
   "source": [
    "plt.figure(figsize = (10,10))\n",
    "preds = model.predict(idx_to_calc)\n",
    "plt.scatter(preds[:, 0, 0], preds[:, 0, 1], alpha=0)\n",
    "for i, idx in enumerate(idx_to_calc):\n",
    "  plt.text(preds[i, 0, 0], preds[i, 0, 1], translator[idx[0]])"
   ]
  },
  {
   "cell_type": "code",
   "execution_count": 30,
   "metadata": {},
   "outputs": [
    {
     "data": {
      "text/plain": [
       "(53, 2, 2)"
      ]
     },
     "execution_count": 30,
     "metadata": {},
     "output_type": "execute_result"
    }
   ],
   "source": [
    "preds.shape"
   ]
  },
  {
   "cell_type": "markdown",
   "metadata": {},
   "source": [
    "### منابع\n",
    "\n",
    "https://www.youtube.com/watch?v=mWvnlVw_LiY&list=PL75e0qA87dlG-za8eLI6t0_Pbxafk-cxb&index=5"
   ]
  }
 ],
 "metadata": {
  "kernelspec": {
   "display_name": "Python 3",
   "language": "python",
   "name": "python3"
  },
  "language_info": {
   "codemirror_mode": {
    "name": "ipython",
    "version": 3
   },
   "file_extension": ".py",
   "mimetype": "text/x-python",
   "name": "python",
   "nbconvert_exporter": "python",
   "pygments_lexer": "ipython3",
   "version": "3.7.4"
  }
 },
 "nbformat": 4,
 "nbformat_minor": 4
}

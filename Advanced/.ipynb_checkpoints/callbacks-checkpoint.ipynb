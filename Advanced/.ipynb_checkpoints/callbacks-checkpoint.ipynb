{
 "cells": [
  {
   "cell_type": "markdown",
   "metadata": {},
   "source": [
    "###  Callbacks\n",
    "\n",
    "با callback ها کنترل بیشتری بر روی فرآیند آموزش مدل شبکه عصبی خواهیم داشت.\n",
    "\n",
    "به صورت کلی می توانیم 4 جنبه فرآیند آموزش را کنترل کنیم:\n",
    "\n",
    "1. آغاز فرآیند آموزش (on_train_begin)\n",
    "2. پایان فرآیند آموزش (on_train_end)\n",
    "3. آغاز هر epoch (on_epoch_begin)\n",
    "4. پایان هر epoch (on_epoch_end)"
   ]
  },
  {
   "cell_type": "code",
   "execution_count": null,
   "metadata": {},
   "outputs": [],
   "source": []
  }
 ],
 "metadata": {
  "kernelspec": {
   "display_name": "Python 3",
   "language": "python",
   "name": "python3"
  },
  "language_info": {
   "codemirror_mode": {
    "name": "ipython",
    "version": 3
   },
   "file_extension": ".py",
   "mimetype": "text/x-python",
   "name": "python",
   "nbconvert_exporter": "python",
   "pygments_lexer": "ipython3",
   "version": "3.7.4"
  }
 },
 "nbformat": 4,
 "nbformat_minor": 4
}
